{
 "cells": [
  {
   "cell_type": "markdown",
   "id": "32a3c4c0-49f5-49cd-a745-92d9e8efe05f",
   "metadata": {},
   "source": [
    "# News Article Classification\n",
    "Assignments from \"Machine learning and text-as-data methods for economists\".    \n",
    "This notebook covers both the ML and the TADA parts.    \n",
    "Solutions by: Paul Solbach (ps@audyem.com)\n",
    "\n",
    "*Questions*:\n",
    "I selected the BBC news corpus because it fits the problem domain of my dissertation, data work in digital news businesses.    \n",
    "My response variable is the section classification of the corresponding news articles.\n",
    "Among KNN, ridge and lasso, I expect KNN to dominate the estimators."
   ]
  },
  {
   "cell_type": "code",
   "execution_count": 1,
   "id": "4a55783e-7625-445a-ab26-5a096c732b0d",
   "metadata": {
    "tags": []
   },
   "outputs": [],
   "source": [
    "import matplotlib.pyplot as plt\n",
    "import pandas as pd\n",
    "import numpy as np\n",
    "import os\n",
    "import re\n",
    "\n",
    "from sklearn.feature_extraction.text import TfidfVectorizer\n",
    "from sklearn.ensemble import RandomForestClassifier\n",
    "from sklearn.metrics import accuracy_score, cohen_kappa_score, confusion_matrix\n",
    "from textblob import Word"
   ]
  },
  {
   "cell_type": "code",
   "execution_count": 2,
   "id": "bb764e95-01ed-425d-98ae-ef2dee0087a4",
   "metadata": {},
   "outputs": [
    {
     "data": {
      "text/plain": [
       "True"
      ]
     },
     "execution_count": 2,
     "metadata": {},
     "output_type": "execute_result"
    }
   ],
   "source": [
    "import nltk\n",
    "nltk.download('omw-1.4', quiet=True)"
   ]
  },
  {
   "cell_type": "code",
   "execution_count": 3,
   "id": "69f03879-f9dc-41bb-bf39-b4761f8ac7ec",
   "metadata": {},
   "outputs": [],
   "source": [
    "def clean_str(string):\n",
    "    string = re.sub(r\"\\'s\", \"\", string)\n",
    "    string = re.sub(r\"\\'ve\", \"\", string)\n",
    "    string = re.sub(r\"n\\'t\", \"\", string)\n",
    "    string = re.sub(r\"\\'re\", \"\", string)\n",
    "    string = re.sub(r\"\\'d\", \"\", string)\n",
    "    string = re.sub(r\"\\'ll\", \"\", string)\n",
    "    string = re.sub(r\",\", \"\", string)\n",
    "    string = re.sub(r\"!\", \" ! \", string)\n",
    "    string = re.sub(r\"\\(\", \"\", string)\n",
    "    string = re.sub(r\"\\)\", \"\", string)\n",
    "    string = re.sub(r\"\\?\", \"\", string)\n",
    "    string = re.sub(r\"'\", \"\", string)\n",
    "    string = re.sub(r\"[^A-Za-z0-9(),!?\\'\\`]\", \" \", string)\n",
    "    string = re.sub(r\"[0-9]\\w+|[0-9]\",\"\", string)\n",
    "    string = re.sub(r\"\\s{2,}\", \" \", string)\n",
    "    return string.strip().lower()"
   ]
  },
  {
   "cell_type": "code",
   "execution_count": 4,
   "id": "317de9ea-31ae-4a26-992c-d37984c5e790",
   "metadata": {},
   "outputs": [],
   "source": [
    "from sklearn.model_selection import train_test_split"
   ]
  },
  {
   "cell_type": "markdown",
   "id": "91b5136d-fe62-4eeb-807c-8187382a09fe",
   "metadata": {
    "tags": []
   },
   "source": [
    "## Data preparation\n",
    "Transform the documents to bag of words and calculate the tf-idf matrix.    "
   ]
  },
  {
   "cell_type": "code",
   "execution_count": 5,
   "id": "cc0a045e-ad71-46f5-acfb-78de9a7a0714",
   "metadata": {
    "tags": []
   },
   "outputs": [
    {
     "data": {
      "text/html": [
       "<div>\n",
       "<style scoped>\n",
       "    .dataframe tbody tr th:only-of-type {\n",
       "        vertical-align: middle;\n",
       "    }\n",
       "\n",
       "    .dataframe tbody tr th {\n",
       "        vertical-align: top;\n",
       "    }\n",
       "\n",
       "    .dataframe thead th {\n",
       "        text-align: right;\n",
       "    }\n",
       "</style>\n",
       "<table border=\"1\" class=\"dataframe\">\n",
       "  <thead>\n",
       "    <tr style=\"text-align: right;\">\n",
       "      <th></th>\n",
       "      <th>news</th>\n",
       "      <th>type</th>\n",
       "    </tr>\n",
       "  </thead>\n",
       "  <tbody>\n",
       "    <tr>\n",
       "      <th>0</th>\n",
       "      <td>China had role in Yukos split-up\\n \\n China le...</td>\n",
       "      <td>business</td>\n",
       "    </tr>\n",
       "    <tr>\n",
       "      <th>1</th>\n",
       "      <td>Oil rebounds from weather effect\\n \\n Oil pric...</td>\n",
       "      <td>business</td>\n",
       "    </tr>\n",
       "    <tr>\n",
       "      <th>2</th>\n",
       "      <td>Indonesia 'declines debt freeze'\\n \\n Indonesi...</td>\n",
       "      <td>business</td>\n",
       "    </tr>\n",
       "    <tr>\n",
       "      <th>3</th>\n",
       "      <td>$1m payoff for former Shell boss\\n \\n Shell is...</td>\n",
       "      <td>business</td>\n",
       "    </tr>\n",
       "    <tr>\n",
       "      <th>4</th>\n",
       "      <td>US bank in $515m SEC settlement\\n \\n Five Bank...</td>\n",
       "      <td>business</td>\n",
       "    </tr>\n",
       "  </tbody>\n",
       "</table>\n",
       "</div>"
      ],
      "text/plain": [
       "                                                news      type\n",
       "0  China had role in Yukos split-up\\n \\n China le...  business\n",
       "1  Oil rebounds from weather effect\\n \\n Oil pric...  business\n",
       "2  Indonesia 'declines debt freeze'\\n \\n Indonesi...  business\n",
       "3  $1m payoff for former Shell boss\\n \\n Shell is...  business\n",
       "4  US bank in $515m SEC settlement\\n \\n Five Bank...  business"
      ]
     },
     "execution_count": 5,
     "metadata": {},
     "output_type": "execute_result"
    }
   ],
   "source": [
    "data = pd.read_csv('./bbc-corpus/dataset.csv')\n",
    "data.head()"
   ]
  },
  {
   "cell_type": "code",
   "execution_count": 6,
   "id": "056e88ef-4349-4526-bbb7-5726ec7d5240",
   "metadata": {},
   "outputs": [],
   "source": [
    "x = data['news'].tolist()\n",
    "y = data['type'].tolist()\n",
    "\n",
    "for index,value in enumerate(x):\n",
    "    x[index] = ' '.join([Word(word).lemmatize() for word in clean_str(value).split()])"
   ]
  },
  {
   "cell_type": "code",
   "execution_count": 7,
   "id": "b6e96a04-66b0-4ea6-a607-392fb2d0bca8",
   "metadata": {},
   "outputs": [
    {
     "data": {
      "text/plain": [
       "'china had role in yukos split up china lent russia to help the russian government renationalise the key yuganskneftegas unit of oil group yukos it ha been revealed the kremlin said on tuesday that the which russian state bank veb lent state owned rosneft to help buy yugansk in turn came from chinese bank the revelation came a the russian government said rosneft had signed a long term oil supply deal with china the deal see rosneft receive in credit from china cnpc according to russian newspaper vedomosti these credit would be used to pay off the loan rosneft received to finance the purchase of yugansk report said cnpc had been offered of yugansk in return for providing finance but the company opted for a long term oil supply deal instead analyst said one factor that might have influenced the chinese decision wa the possibility of litigation from yukos yugansk former owner if cnpc had become a shareholder rosneft and veb declined to comment the two company rosneft and cnpc have agreed on the pre payment for long term delivery said russian oil official sergei oganesyan there is nothing unusual that the pre payment is for five to six year the announcement help to explain how rosneft a medium sized indebted and relatively unknown firm wa able to finance it surprise purchase of yugansk yugansk wa sold for in an auction last year to help yukos pay off part of a bill in unpaid tax and fine the embattled russian oil giant had previously filed for bankruptcy protection in a u court in an attempt to prevent the forced sale of it main production arm but yugansk wa sold to a little known shell company which in turn wa bought by rosneft yukos claim it downfall wa punishment for the political ambition of it founder mikhail khodorkovsky once the country richest man mr khodorkovsky is on trial for fraud and tax evasion the deal between rosneft and cnpc is seen a part of china desire to secure long term oil supply to feed it booming economy china thirst for product such a crude oil copper and steel ha helped pushed global commodity price to record level clearly the chinese are trying to get some leverage in russia said dmitry lukashov an analyst at brokerage aton they understand property right in russia are not the most important right and they are more interested in guaranteeing supply if the price of oil is fixed under the deal which is unlikely it could be very profitable for the chinese mr lukashov continued and rosneft is in desperate need of cash so it a good deal for them too'"
      ]
     },
     "execution_count": 7,
     "metadata": {},
     "output_type": "execute_result"
    }
   ],
   "source": [
    "x[0]"
   ]
  },
  {
   "cell_type": "code",
   "execution_count": 8,
   "id": "6d6ddb04-2bdb-4c27-9993-191bd6769045",
   "metadata": {},
   "outputs": [
    {
     "name": "stdout",
     "output_type": "stream",
     "text": [
      "Number of features extracted:  5000\n"
     ]
    }
   ],
   "source": [
    "vect = TfidfVectorizer(stop_words='english', min_df=2, max_features=5000)\n",
    "X = vect.fit_transform(x)\n",
    "Y = np.array(y)\n",
    "\n",
    "print(\"Number of features extracted: \", X.shape[1])"
   ]
  },
  {
   "cell_type": "code",
   "execution_count": 9,
   "id": "620905cc-ca4c-4fe2-936a-c62193d406bf",
   "metadata": {},
   "outputs": [],
   "source": [
    "X_train, X_test, y_train, y_test = train_test_split(X, Y, test_size=0.3, random_state=123, shuffle=True)"
   ]
  },
  {
   "cell_type": "code",
   "execution_count": 10,
   "id": "3e3b2496-88ce-4ac5-bd26-a07b8cca991b",
   "metadata": {},
   "outputs": [
    {
     "name": "stdout",
     "output_type": "stream",
     "text": [
      "Training set size:  (1557, 5000)\n",
      "Testing set size:  (668, 5000)\n"
     ]
    }
   ],
   "source": [
    "print(\"Training set size: \", X_train.shape)\n",
    "print(\"Testing set size: \", X_test.shape)"
   ]
  },
  {
   "cell_type": "markdown",
   "id": "9c65cd1f-728d-4cd5-a408-96065870623c",
   "metadata": {},
   "source": [
    "## Random Forest classifier"
   ]
  },
  {
   "cell_type": "code",
   "execution_count": 11,
   "id": "44bf2a96-8c53-472d-aecd-fb3e1cc4db32",
   "metadata": {},
   "outputs": [
    {
     "name": "stdout",
     "output_type": "stream",
     "text": [
      "Kappa: 0.9568\n",
      "Accuracy: 0.9656\n"
     ]
    }
   ],
   "source": [
    "model = RandomForestClassifier(n_estimators=300, max_depth=150, n_jobs=8)\n",
    "model.fit(X_train, y_train)\n",
    "\n",
    "y_pred = model.predict(X_test)\n",
    "c_mat = confusion_matrix(y_test, y_pred)\n",
    "kappa = cohen_kappa_score(y_test, y_pred)\n",
    "acc = accuracy_score(y_test, y_pred)\n",
    "\n",
    "print(\"Kappa: {:.4f}\".format(kappa))\n",
    "print(\"Accuracy: {:.4f}\".format(acc))"
   ]
  },
  {
   "cell_type": "markdown",
   "id": "744fb50d-1d38-4189-8657-d09139c28640",
   "metadata": {},
   "source": [
    "## Test prediction\n",
    "\n",
    "Test classification of a random sample article from the corpus"
   ]
  },
  {
   "cell_type": "code",
   "execution_count": 12,
   "id": "22e32134-89e8-457f-a3b0-fe494680e22b",
   "metadata": {},
   "outputs": [
    {
     "name": "stdout",
     "output_type": "stream",
     "text": [
      "\n",
      "True! Article of section 'entertainment' predicted as 'entertainment'.\n"
     ]
    }
   ],
   "source": [
    "def predict_section(fulltext):  # function to accept raw string and to provide news type(class)\n",
    "    fulltext = [' '.join([Word(word).lemmatize() for word in clean_str(fulltext).split()])]\n",
    "    features = vect.transform(fulltext)\n",
    "    return str(model.predict(features)[0])\n",
    "\n",
    "random_article = data.sample()\n",
    "prediction = predict_section(fulltext=random_article.news.item())\n",
    "print(\"\\n{}! Article of section '{}' predicted as '{}'.\"\n",
    "      .format(random_article.type.item() == prediction, random_article.type.item(), prediction))"
   ]
  },
  {
   "cell_type": "markdown",
   "id": "77cc8edd-06a2-4145-a590-3d1cd47c8a12",
   "metadata": {
    "tags": []
   },
   "source": [
    "## Support Vector Machine (SVM)\n",
    "a model which generally seems to perform on the problem of news article classification.    \n",
    "cf. https://www.stat.berkeley.edu/~aldous/Research/Ugrad/Nura_Kawa_report.pdf"
   ]
  },
  {
   "cell_type": "code",
   "execution_count": 13,
   "id": "37f6de65-6604-4f6f-bcbb-e68338a04c4a",
   "metadata": {},
   "outputs": [],
   "source": [
    "from sklearn import svm"
   ]
  },
  {
   "cell_type": "code",
   "execution_count": 14,
   "id": "97ac285a-4182-4d49-a2c5-6675512c0070",
   "metadata": {},
   "outputs": [
    {
     "name": "stdout",
     "output_type": "stream",
     "text": [
      "Test set ccuracy:  0.98%\n"
     ]
    }
   ],
   "source": [
    "model = svm.SVC(C=1.0, kernel='linear', degree=3, gamma='auto')\n",
    "#model = svm.SVR(kernel=\"rbf\", C=100, gamma=0.1, epsilon=0.1)\n",
    "#model = svm.SVR(kernel=\"linear\", C=100, gamma=\"auto\")\n",
    "\n",
    "model.fit(X_train, y_train)\n",
    "\n",
    "y_pred_svm = model.predict(X_test)\n",
    "c_mat = confusion_matrix(y_test, y_pred_svm)\n",
    "kappa = cohen_kappa_score(y_test, y_pred_svm)\n",
    "accuracy = accuracy_score(y_test, y_pred_svm)\n",
    "\n",
    "print(f'Test set ccuracy: {accuracy: .2f}%')"
   ]
  },
  {
   "cell_type": "markdown",
   "id": "a22df2e5-5872-43de-a03b-dc59802bc16e",
   "metadata": {},
   "source": [
    "## K-nearest neighbor\n",
    "Re-run the classifier with K-nearest neighbor"
   ]
  },
  {
   "cell_type": "code",
   "execution_count": 15,
   "id": "ffc0bb40-4e5d-4e44-9e25-b806987258c5",
   "metadata": {},
   "outputs": [],
   "source": [
    "from sklearn.neighbors import KNeighborsClassifier"
   ]
  },
  {
   "cell_type": "code",
   "execution_count": 16,
   "id": "3f20381f-a45a-4485-b8a2-00ebb8791dcc",
   "metadata": {},
   "outputs": [
    {
     "name": "stdout",
     "output_type": "stream",
     "text": [
      "Test set accuracy: 95.06%\n"
     ]
    }
   ],
   "source": [
    "knn_model = KNeighborsClassifier(n_neighbors=15)\n",
    "knn_model.fit(X_train, y_train)\n",
    "\n",
    "y_pred_knn = knn_model.predict(X_test)\n",
    "\n",
    "num_correct_predictions = (y_pred_knn == y_test).sum()\n",
    "accuracy = (num_correct_predictions / y_test.shape[0]) * 100\n",
    "\n",
    "print(f'Test set accuracy: {accuracy:.2f}%') # alternative formated print method"
   ]
  },
  {
   "cell_type": "code",
   "execution_count": 17,
   "id": "a6ecaac0-6d0b-475e-81fd-e0e0cb1f08a0",
   "metadata": {},
   "outputs": [
    {
     "data": {
      "image/png": "[encoded data removed]",
      "text/plain": [
       "<Figure size 1152x576 with 1 Axes>"
      ]
     },
     "metadata": {
      "needs_background": "light"
     },
     "output_type": "display_data"
    }
   ],
   "source": [
    "metric = []\n",
    "K = range(1, 20)\n",
    "\n",
    "for i in K:\n",
    "  # Train the model using the training set only\n",
    "  model = KNeighborsClassifier(n_neighbors=i)\n",
    "  model.fit(X_train, y_train)\n",
    "\n",
    "  # Compute some forecast evaluation score and append the scalar value\n",
    "  metric.append(model.score(X_test, y_test))\n",
    "\n",
    "plt.figure(figsize=(16,8))\n",
    "plt.plot(K, metric, 'bx-')\n",
    "plt.xlabel('k')\n",
    "plt.ylabel('Score')\n",
    "plt.title('Score as a function of K (the higher the better)')\n",
    "plt.show()"
   ]
  },
  {
   "cell_type": "markdown",
   "id": "1d144ac6-eee4-42c9-8704-3cc35095687b",
   "metadata": {},
   "source": [
    "Experimenting with `n_neighbors`, I found 15 to yield the best accuracy. Overall, KNN performed worse than SVM."
   ]
  },
  {
   "cell_type": "markdown",
   "id": "b7f401ff-6eb2-4b73-a2b1-af69ebf18ac3",
   "metadata": {},
   "source": [
    "## Ridge Regression"
   ]
  },
  {
   "cell_type": "code",
   "execution_count": 18,
   "id": "2f953450-b6fc-4db6-ba3d-efe9f48c4918",
   "metadata": {},
   "outputs": [],
   "source": [
    "from sklearn.linear_model import Ridge\n",
    "from sklearn.metrics import mean_squared_error\n",
    "from sklearn.pipeline import make_pipeline"
   ]
  },
  {
   "cell_type": "code",
   "execution_count": 19,
   "id": "2b4535e3-dff4-478f-ae9a-2e0df6f59da7",
   "metadata": {},
   "outputs": [
    {
     "name": "stdout",
     "output_type": "stream",
     "text": [
      "[5.00000000e+09 3.78231664e+09 2.86118383e+09 2.16438064e+09\n",
      " 1.63727458e+09 1.23853818e+09 9.36908711e+08 7.08737081e+08\n",
      " 5.36133611e+08 4.05565415e+08]\n"
     ]
    }
   ],
   "source": [
    "alphas = 10 ** np.linspace(10, -2, 100) * 0.5\n",
    "alphas.shape\n",
    "print(alphas[:10])"
   ]
  },
  {
   "cell_type": "code",
   "execution_count": 20,
   "id": "bdf653ce-8944-4d78-aeae-06b3a0bf626d",
   "metadata": {},
   "outputs": [
    {
     "data": {
      "text/plain": [
       "(100, 5000)"
      ]
     },
     "execution_count": 20,
     "metadata": {},
     "output_type": "execute_result"
    }
   ],
   "source": [
    "coefs = []\n",
    "\n",
    "article_types = {\n",
    "    'business': 0,\n",
    "    'entertainment': 1,\n",
    "    'politics': 2,\n",
    "    'sport': 3,\n",
    "    'tech': 4\n",
    "}\n",
    "\n",
    "article_numeric_types = {\n",
    "    0: 'business',\n",
    "    1: 'entertainment',\n",
    "    2: 'politics',\n",
    "    3: 'sport',\n",
    "    4: 'tech'\n",
    "}\n",
    "\n",
    "y_train_numeric = [article_types[y] for y in y_train]\n",
    "y_test_numeric = [article_types[y] for y in y_test]\n",
    "\n",
    "model = Ridge()\n",
    "\n",
    "for a in alphas:\n",
    "    model.set_params(alpha=a)\n",
    "    model.fit(X_train, y_train_numeric)\n",
    "    coefs.append(model.coef_)\n",
    "    \n",
    "np.shape(coefs)"
   ]
  },
  {
   "cell_type": "code",
   "execution_count": 21,
   "id": "0de3a7e7-6c97-4228-9d18-0dcc7dc0d05f",
   "metadata": {},
   "outputs": [
    {
     "data": {
      "text/plain": [
       "Text(0, 0.5, 'coefficients')"
      ]
     },
     "execution_count": 21,
     "metadata": {},
     "output_type": "execute_result"
    },
    {
     "data": {
      "image/png": "[encoded data removed]",
      "text/plain": [
       "<Figure size 432x288 with 1 Axes>"
      ]
     },
     "metadata": {
      "needs_background": "light"
     },
     "output_type": "display_data"
    }
   ],
   "source": [
    "ax = plt.gca()\n",
    "ax.plot(alphas, coefs)\n",
    "ax.set_xscale('log')\n",
    "plt.axis('tight')\n",
    "plt.xlabel('alpha')\n",
    "plt.ylabel('coefficients')"
   ]
  },
  {
   "cell_type": "markdown",
   "id": "e8be07ef-2d8d-4561-a999-c630592b7469",
   "metadata": {},
   "source": [
    "Compute the test error"
   ]
  },
  {
   "cell_type": "code",
   "execution_count": 22,
   "id": "5bfebb4c-a6a9-4cb0-ae39-a4fd11d58683",
   "metadata": {},
   "outputs": [],
   "source": [
    "metrics = np.zeros((alphas.shape[0], 2))  # 100 by 2 matrix\n",
    "\n",
    "for idx, a in enumerate(alphas):\n",
    "    model.set_params(alpha=a)\n",
    "    model.fit(X_train, y_train_numeric)\n",
    "\n",
    "    y_pred_ridge = model.predict(X_test)\n",
    "\n",
    "    metrics[idx, 0] = a # store alpha value\n",
    "    metrics[idx, 1] = mean_squared_error(y_test_numeric, y_pred_ridge) # store test error"
   ]
  },
  {
   "cell_type": "code",
   "execution_count": 23,
   "id": "88ee491d-b11a-43fc-95b5-e7f8aaf6a42c",
   "metadata": {},
   "outputs": [
    {
     "name": "stdout",
     "output_type": "stream",
     "text": [
      "[[5.00000000e+09 1.91304082e+00]\n",
      " [3.78231664e+09 1.91304082e+00]\n",
      " [2.86118383e+09 1.91304082e+00]\n",
      " [2.16438064e+09 1.91304081e+00]\n",
      " [1.63727458e+09 1.91304081e+00]\n",
      " [1.23853818e+09 1.91304080e+00]\n",
      " [9.36908711e+08 1.91304079e+00]\n",
      " [7.08737081e+08 1.91304077e+00]\n",
      " [5.36133611e+08 1.91304075e+00]\n",
      " [4.05565415e+08 1.91304073e+00]]\n"
     ]
    }
   ],
   "source": [
    "print(metrics[:10,:])"
   ]
  },
  {
   "cell_type": "code",
   "execution_count": 24,
   "id": "53801c79-b693-4681-8bc9-fdfe60f0e894",
   "metadata": {},
   "outputs": [
    {
     "data": {
      "text/plain": [
       "Text(0, 0.5, 'MSE')"
      ]
     },
     "execution_count": 24,
     "metadata": {},
     "output_type": "execute_result"
    },
    {
     "data": {
      "image/png": "[encoded data removed]",
      "text/plain": [
       "<Figure size 432x288 with 1 Axes>"
      ]
     },
     "metadata": {
      "needs_background": "light"
     },
     "output_type": "display_data"
    }
   ],
   "source": [
    "ax = plt.gca()\n",
    "ax.plot(metrics[:,0], metrics[:,1])\n",
    "ax.set_xscale('log')\n",
    "plt.axis('tight')\n",
    "plt.xlabel('Log(alpha)')\n",
    "plt.ylabel('MSE')"
   ]
  },
  {
   "cell_type": "code",
   "execution_count": 25,
   "id": "f03d6d19-585d-47b0-949b-733bdc6eae0e",
   "metadata": {},
   "outputs": [
    {
     "name": "stdout",
     "output_type": "stream",
     "text": [
      "{'alpha': 0.3289666123287841, 'metrics': 0.2572149454232997}\n"
     ]
    }
   ],
   "source": [
    "idx = np.argmin(metrics[:,1])  # search for the minimum entry in the second column\n",
    "\n",
    "AlphaMetric = {\"alpha\": metrics[idx,0], \"metrics\": metrics[idx,1]}\n",
    "print(AlphaMetric)"
   ]
  },
  {
   "cell_type": "code",
   "execution_count": 26,
   "id": "e314a299-4b0f-482a-8eac-747610868242",
   "metadata": {},
   "outputs": [
    {
     "name": "stdout",
     "output_type": "stream",
     "text": [
      "The intercept is = 1.8391264182836646\n",
      "\n",
      "0.27994011976047906\n",
      "Estimated MSE = 0.27994011976047906.\n",
      "Expected MSE = 0.2572149454232997.\n",
      "\n",
      "Test set accuracy: 0.77%\n"
     ]
    }
   ],
   "source": [
    "model = Ridge(alpha = AlphaMetric[\"alpha\"])\n",
    "model.fit(X_train, y_train_numeric)\n",
    "\n",
    "print(f\"The intercept is = {model.intercept_}\\n\")\n",
    "\n",
    "y_pred_ridge_float = model.predict(X_test) # Use this model to predict the test data\n",
    "y_pred_ridge = []\n",
    "\n",
    "for y in y_pred_ridge_float:\n",
    "    y_rounded_integer = min(4, max(0, round(float(y))))\n",
    "    y_pred_ridge.append(y_rounded_integer)\n",
    "\n",
    "accuracy = accuracy_score(y_test_numeric, y_pred_ridge)\n",
    "\n",
    "print(mean_squared_error(y_test_numeric, y_pred_ridge)) # Calculate the test MSE\n",
    "print(f\"Estimated MSE = {mean_squared_error(y_test_numeric, y_pred_ridge)}.\")\n",
    "print(\"Expected MSE = {}.\\n\".format(AlphaMetric[\"metrics\"]))\n",
    "print(f'Test set accuracy: {accuracy:.2f}%') # alternative formated print method"
   ]
  },
  {
   "cell_type": "code",
   "execution_count": 27,
   "id": "87736aa3-b0f9-48ed-b35d-d2f9ffcad23a",
   "metadata": {},
   "outputs": [
    {
     "name": "stdout",
     "output_type": "stream",
     "text": [
      "\n",
      "True! Article of section 'business' predicted as 'business'.\n"
     ]
    }
   ],
   "source": [
    "random_article = data.sample()\n",
    "prediction_float = predict_section(fulltext=random_article.news.item())\n",
    "prediction_int = round(float(prediction_float))\n",
    "prediction = article_numeric_types[prediction_int]\n",
    "\n",
    "print(\"\\n{}! Article of section '{}' predicted as '{}'.\"\n",
    "      .format(random_article.type.item() == prediction, random_article.type.item(), prediction))"
   ]
  },
  {
   "cell_type": "markdown",
   "id": "05d741ba-664a-4b8a-8c09-9358fe1cf051",
   "metadata": {},
   "source": [
    "## Lasso Regression"
   ]
  },
  {
   "cell_type": "code",
   "execution_count": 32,
   "id": "f145327a-5269-4e1d-a7f5-3527e5a7abd5",
   "metadata": {},
   "outputs": [],
   "source": [
    "from sklearn.linear_model import Lasso, LassoCV\n",
    "from sklearn.preprocessing import scale\n",
    "lasso = Lasso(max_iter = 10000)\n",
    "coefs = []\n",
    "\n",
    "for a in alphas:\n",
    "    lasso.set_params(alpha=a)\n",
    "    lasso.fit(scale(X_train, with_mean=False), y_train_numeric)\n",
    "    coefs.append(lasso.coef_)"
   ]
  },
  {
   "cell_type": "code",
   "execution_count": 33,
   "id": "9edc5cc2-f01e-4d55-a5fb-5bc5bd70ae6e",
   "metadata": {},
   "outputs": [
    {
     "name": "stdout",
     "output_type": "stream",
     "text": [
      "1.9146706586826348\n",
      "Estimated MSE = 1.9146706586826348.\n",
      "Expected MSE = 0.2572149454232997\n",
      "Test set accuracy: 0.20%\n"
     ]
    }
   ],
   "source": [
    "y_pred_lasso_float = lasso.predict(X_test)\n",
    "y_pred_lasso = []\n",
    "\n",
    "for y in y_pred_lasso_float:\n",
    "    y_rounded_integer = min(4, max(0, round(float(y))))\n",
    "    y_pred_lasso.append(y_rounded_integer)\n",
    "\n",
    "accuracy = accuracy_score(y_test_numeric, y_pred_lasso)\n",
    "\n",
    "print(mean_squared_error(y_test_numeric, y_pred_lasso)) # Calculate the test MSE\n",
    "print(f\"Estimated MSE = {mean_squared_error(y_test_numeric, y_pred_lasso)}.\")\n",
    "print(f\"Expected MSE = {AlphaMetric['metrics']}\")\n",
    "print(f\"Test set accuracy: {accuracy:.2f}%\")"
   ]
  },
  {
   "cell_type": "code",
   "execution_count": 34,
   "id": "9f3ce3a3-aa7b-402e-a55d-f9f8f8c73622",
   "metadata": {},
   "outputs": [
    {
     "name": "stdout",
     "output_type": "stream",
     "text": [
      "0.3413173652694611\n",
      "Estimated MSE = 0.3413173652694611.\n",
      "Expected MSE = 0.2572149454232997\n",
      "Test set accuracy: 0.73%\n"
     ]
    }
   ],
   "source": [
    "lassocv = LassoCV(alphas=None, cv=8, max_iter=5000)\n",
    "lassocv.fit(X_train, y_train_numeric)\n",
    "\n",
    "lasso.set_params(alpha=lassocv.alpha_)\n",
    "lasso.fit(X_train, y_train_numeric)\n",
    "\n",
    "y_pred_lassocv_float = lasso.predict(X_test)\n",
    "y_pred_lassocv = []\n",
    "\n",
    "for y in y_pred_lassocv_float:\n",
    "    y_rounded_integer = min(4, max(0, round(float(y))))\n",
    "    y_pred_lassocv.append(y_rounded_integer)\n",
    "\n",
    "accuracy = accuracy_score(y_test_numeric, y_pred_lassocv)\n",
    "\n",
    "print(mean_squared_error(y_test_numeric, y_pred_lassocv)) # Calculate the test MSE\n",
    "print(f\"Estimated MSE = {mean_squared_error(y_test_numeric, y_pred_lassocv)}.\")\n",
    "print(f\"Expected MSE = {AlphaMetric['metrics']}\")\n",
    "print(f\"Test set accuracy: {accuracy:.2f}%\")"
   ]
  }
 ],
 "metadata": {
  "kernelspec": {
   "display_name": "Python 3 (ipykernel)",
   "language": "python",
   "name": "python3"
  },
  "language_info": {
   "codemirror_mode": {
    "name": "ipython",
    "version": 3
   },
   "file_extension": ".py",
   "mimetype": "text/x-python",
   "name": "python",
   "nbconvert_exporter": "python",
   "pygments_lexer": "ipython3",
   "version": "3.9.10"
  }
 },
 "nbformat": 4,
 "nbformat_minor": 5
}
